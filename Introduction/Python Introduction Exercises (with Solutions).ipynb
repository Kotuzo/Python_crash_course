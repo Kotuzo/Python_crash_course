{
 "cells": [
  {
   "cell_type": "markdown",
   "metadata": {},
   "source": [
    "## Solutions with exemplary solutions\n",
    "Answer the questions below"
   ]
  },
  {
   "cell_type": "markdown",
   "metadata": {},
   "source": [
    "##### Ile to jest 2 do potęgi 64?"
   ]
  },
  {
   "cell_type": "code",
   "execution_count": 62,
   "metadata": {},
   "outputs": [
    {
     "data": {
      "text/plain": [
       "18446744073709551616"
      ]
     },
     "execution_count": 62,
     "metadata": {},
     "output_type": "execute_result"
    }
   ],
   "source": [
    "2 ** 64"
   ]
  },
  {
   "cell_type": "markdown",
   "metadata": {},
   "source": [
    "##### Korzystajac z ponizszej listy list1 wydabadz z niej element 'hello world!'"
   ]
  },
  {
   "cell_type": "code",
   "execution_count": 63,
   "metadata": {
    "collapsed": true
   },
   "outputs": [],
   "source": [
    "list1 = [51, 29, [22, [22, [22, [22, 22, 22]]]], [42, 55, 'kotopies', ['hello world!']], 23, 23, [13, 1]]"
   ]
  },
  {
   "cell_type": "code",
   "execution_count": 64,
   "metadata": {},
   "outputs": [
    {
     "name": "stdout",
     "output_type": "stream",
     "text": [
      "hello world!\n"
     ]
    }
   ],
   "source": [
    "print(list1[3][3][0])"
   ]
  },
  {
   "cell_type": "markdown",
   "metadata": {},
   "source": [
    "##### Korzystając ze zmiennych zdefiniowanych niżej (trzeba je utworzyć):\n",
    "    pi=3.14\n",
    "    r=2\n",
    "##### Skorzystaj z funkcji print i .format do wypisania tekstu:\n",
    "    Pole koła o promieniu r=2 wynosi 12.56"
   ]
  },
  {
   "cell_type": "code",
   "execution_count": 65,
   "metadata": {
    "collapsed": true
   },
   "outputs": [],
   "source": [
    "pi = 3.14\n",
    "r = 2"
   ]
  },
  {
   "cell_type": "code",
   "execution_count": 66,
   "metadata": {},
   "outputs": [
    {
     "name": "stdout",
     "output_type": "stream",
     "text": [
      "Pole koła o promieniu r=2 wynosi 12.56\n"
     ]
    }
   ],
   "source": [
    "print('Pole koła o promieniu r={} wynosi {}'.format(r, pi*r**2))"
   ]
  },
  {
   "cell_type": "markdown",
   "metadata": {},
   "source": [
    "##### Utwórz funkcję o nazwie get_domain_from_email, która zwróci domenę z podanego adresu email\n",
    "    Przetestuj na przykładzie jan.nowak@kmail.com (funkcja powinna zwrócić 'kmail.com')"
   ]
  },
  {
   "cell_type": "code",
   "execution_count": 67,
   "metadata": {
    "collapsed": true
   },
   "outputs": [],
   "source": [
    "def get_domain_from_email(email):\n",
    "    return email.split('@')[-1]"
   ]
  },
  {
   "cell_type": "code",
   "execution_count": 68,
   "metadata": {},
   "outputs": [
    {
     "data": {
      "text/plain": [
       "'kmail.com'"
      ]
     },
     "execution_count": 68,
     "metadata": {},
     "output_type": "execute_result"
    }
   ],
   "source": [
    "get_domain_from_email('jan.nowak@kmail.com')"
   ]
  },
  {
   "cell_type": "markdown",
   "metadata": {},
   "source": [
    "##### Korzystając z podanego niżej słownika dict1 wydobądź element 'hello world!'"
   ]
  },
  {
   "cell_type": "code",
   "execution_count": 69,
   "metadata": {},
   "outputs": [],
   "source": [
    "dict1 = {'key': (1,2,3,4,{'trololo': [\"i'm\", 'the', 'gr8est', \n",
    "                                      {'look at me now': [1,2,3, \"you're\", 'almost', \n",
    "                                                          'here', 'hello world!']}]})}"
   ]
  },
  {
   "cell_type": "code",
   "execution_count": 70,
   "metadata": {},
   "outputs": [
    {
     "data": {
      "text/plain": [
       "'hello world!'"
      ]
     },
     "execution_count": 70,
     "metadata": {},
     "output_type": "execute_result"
    }
   ],
   "source": [
    "dict1['key'][4]['trololo'][3]['look at me now'][6]"
   ]
  },
  {
   "cell_type": "markdown",
   "metadata": {},
   "source": [
    "##### Utwórz funkcję find_in_str, która zwróci ile razy pojawia się w podanym stringu dane słowo\n",
    "    Np. wezmy string 'Is there anybody out there?'\n",
    "    i chcemy sprawdzić czy istnieje w nim słowo 'there'"
   ]
  },
  {
   "cell_type": "code",
   "execution_count": 71,
   "metadata": {
    "collapsed": true
   },
   "outputs": [],
   "source": [
    "def find_in_str(string, word):\n",
    "    if word in string.lower():\n",
    "        return True\n",
    "    return False"
   ]
  },
  {
   "cell_type": "code",
   "execution_count": 72,
   "metadata": {},
   "outputs": [
    {
     "data": {
      "text/plain": [
       "True"
      ]
     },
     "execution_count": 72,
     "metadata": {},
     "output_type": "execute_result"
    }
   ],
   "source": [
    "find_in_str('Is there anybody out there?', 'there')"
   ]
  },
  {
   "cell_type": "markdown",
   "metadata": {},
   "source": [
    "##### Teraz, napisz funkcję count_in_str, która policzy ile razy dane słowo występuje w sekwencji\n",
    "    Zwrócić uwagę na to, czy znaki takie jak '?' nie wpływają negatywnie. Jak można to rozwiązać?"
   ]
  },
  {
   "cell_type": "code",
   "execution_count": 73,
   "metadata": {
    "collapsed": true
   },
   "outputs": [],
   "source": [
    "def remove_puctuation(string, to_remove):\n",
    "    for punct in to_remove:\n",
    "        string = string.replace(punct, '')\n",
    "    return string"
   ]
  },
  {
   "cell_type": "code",
   "execution_count": 74,
   "metadata": {
    "collapsed": true
   },
   "outputs": [],
   "source": [
    "def count_in_str(string, word, remove_punct = ''):\n",
    "    if remove_punct:\n",
    "        string = remove_puctuation(string, remove_punct)\n",
    "    string = string.lower().split()\n",
    "    temp = [1 for d in string if d == word]\n",
    "    return sum(temp)"
   ]
  },
  {
   "cell_type": "code",
   "execution_count": 75,
   "metadata": {},
   "outputs": [
    {
     "data": {
      "text/plain": [
       "4"
      ]
     },
     "execution_count": 75,
     "metadata": {},
     "output_type": "execute_result"
    }
   ],
   "source": [
    "count_in_str('Is there anybody out there? there. there,', 'there', '?,./;:<>!')"
   ]
  },
  {
   "cell_type": "code",
   "execution_count": null,
   "metadata": {
    "collapsed": true
   },
   "outputs": [],
   "source": []
  }
 ],
 "metadata": {
  "kernelspec": {
   "display_name": "Python 3",
   "language": "python",
   "name": "python3"
  },
  "language_info": {
   "codemirror_mode": {
    "name": "ipython",
    "version": 3
   },
   "file_extension": ".py",
   "mimetype": "text/x-python",
   "name": "python",
   "nbconvert_exporter": "python",
   "pygments_lexer": "ipython3",
   "version": "3.6.1"
  }
 },
 "nbformat": 4,
 "nbformat_minor": 2
}
